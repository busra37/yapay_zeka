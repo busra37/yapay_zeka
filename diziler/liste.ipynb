{
 "cells": [
  {
   "cell_type": "code",
   "execution_count": 5,
   "id": "c5371ea9-67ef-45d6-a14c-c3ba22361811",
   "metadata": {},
   "outputs": [
    {
     "data": {
      "text/plain": [
       "array([1, 2, 3])"
      ]
     },
     "execution_count": 5,
     "metadata": {},
     "output_type": "execute_result"
    }
   ],
   "source": [
    "import numpy as np # NumPy kütüphanesi genellikle np takma adı ile kullanılır\n",
    "np.array([1,2,3]) # : NumPy dizisi oluşturmak için"
   ]
  },
  {
   "cell_type": "code",
   "execution_count": 6,
   "id": "c9b467e2-a2dc-4c09-81f7-380480e902c3",
   "metadata": {},
   "outputs": [],
   "source": [
    "a=np.array([1,2,3]) #  Bir NumPy dizisini atama işlemi için"
   ]
  },
  {
   "cell_type": "code",
   "execution_count": 10,
   "id": "2e9f66ca-0172-4a98-aa77-3a0e3739d677",
   "metadata": {},
   "outputs": [
    {
     "data": {
      "text/plain": [
       "array([1.  , 2.  , 3.  , 3.14])"
      ]
     },
     "execution_count": 10,
     "metadata": {},
     "output_type": "execute_result"
    }
   ],
   "source": [
    "dizi=np.array([1,2,3,3.14])  # dizi içine eklenen bir ondalık sayı, tam sayı olan diğer elemanları da ondalık sayı ekliyor\n",
    "dizi"
   ]
  },
  {
   "cell_type": "code",
   "execution_count": 11,
   "id": "dbdb58de-8e14-4419-b88a-6c771588d82c",
   "metadata": {},
   "outputs": [
    {
     "data": {
      "text/plain": [
       "array([1, 2, 3, 3])"
      ]
     },
     "execution_count": 11,
     "metadata": {},
     "output_type": "execute_result"
    }
   ],
   "source": [
    "dizi=np.array([1,2,3,3.14],dtype=int) # NumPy dizilerini tanımlama sırasında dizideki tüm elemanları tek tipe dönüştürme işlemi\n",
    "# gerçekleştirebilir int eklendiği için ondalıklı sayıları saymıyo \n",
    "dizi"
   ]
  },
  {
   "cell_type": "code",
   "execution_count": null,
   "id": "8c0b3dfa-f53c-435a-99b0-fac206c94069",
   "metadata": {},
   "outputs": [],
   "source": []
  },
  {
   "cell_type": "code",
   "execution_count": null,
   "id": "7f1685d4-2020-46ce-a76f-7ec0ac8c9b62",
   "metadata": {},
   "outputs": [],
   "source": []
  },
  {
   "cell_type": "code",
   "execution_count": 12,
   "id": "c3979a8d-ede7-45cc-abb6-6e5544770aed",
   "metadata": {},
   "outputs": [
    {
     "data": {
      "text/plain": [
       "array([1, 2, 3])"
      ]
     },
     "execution_count": 12,
     "metadata": {},
     "output_type": "execute_result"
    }
   ],
   "source": [
    "birboyut=np.array([1,2,3]) # NumPy kütüphanesini import ettikten sonra yandaki kodları yazarak bir boyutlu dizi\n",
    "oluşturunuz.\n",
    "birboyut"
   ]
  },
  {
   "cell_type": "code",
   "execution_count": 13,
   "id": "91808af3-8cc0-4701-9c0b-be866aa46b0d",
   "metadata": {},
   "outputs": [
    {
     "data": {
      "text/plain": [
       "array([[1, 2, 3],\n",
       "       [4, 5, 6]])"
      ]
     },
     "execution_count": 13,
     "metadata": {},
     "output_type": "execute_result"
    }
   ],
   "source": [
    "ikiboyut = np.array([[1,2,3], [4,5,6]]) # İki boyutlu dizi oluşturmak için yandaki kodlamaları\n",
    "ikiboyut"
   ]
  },
  {
   "cell_type": "code",
   "execution_count": 14,
   "id": "edaa8ee3-8406-4e7e-9ba7-9a5ebc47a119",
   "metadata": {},
   "outputs": [
    {
     "data": {
      "text/plain": [
       "array([[[1, 2, 3],\n",
       "        [4, 5, 6]],\n",
       "\n",
       "       [[1, 2, 3],\n",
       "        [4, 5, 6]]])"
      ]
     },
     "execution_count": 14,
     "metadata": {},
     "output_type": "execute_result"
    }
   ],
   "source": [
    "ucboyut= np.array([[[1,2,3], [4,5,6]], [[1,2,3], [4,5,6]]])  # Üç boyutlu dizi oluşturmak için yandaki kodlamaları\n",
    "ucboyut"
   ]
  },
  {
   "cell_type": "code",
   "execution_count": null,
   "id": "32f5c337-3b3f-4306-8d49-b777af809142",
   "metadata": {},
   "outputs": [],
   "source": []
  }
 ],
 "metadata": {
  "kernelspec": {
   "display_name": "Python 3 (ipykernel)",
   "language": "python",
   "name": "python3"
  },
  "language_info": {
   "codemirror_mode": {
    "name": "ipython",
    "version": 3
   },
   "file_extension": ".py",
   "mimetype": "text/x-python",
   "name": "python",
   "nbconvert_exporter": "python",
   "pygments_lexer": "ipython3",
   "version": "3.11.7"
  }
 },
 "nbformat": 4,
 "nbformat_minor": 5
}
