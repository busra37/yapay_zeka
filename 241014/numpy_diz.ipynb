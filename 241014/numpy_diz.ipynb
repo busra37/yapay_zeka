{
 "cells": [
  {
   "cell_type": "code",
   "execution_count": 1,
   "id": "8a79a259-bff4-473b-9076-c81c18aef1ca",
   "metadata": {},
   "outputs": [],
   "source": [
    "import numpy as np #numpy kütüphanesi np takma adı il projeye dahil adiyoruz"
   ]
  },
  {
   "cell_type": "code",
   "execution_count": 5,
   "id": "edddb7e3-fda2-4937-9f38-d66bcaebf0c1",
   "metadata": {},
   "outputs": [
    {
     "data": {
      "text/plain": [
       "array([[5, 5, 5],\n",
       "       [5, 5, 5],\n",
       "       [5, 5, 5],\n",
       "       [5, 5, 5]])"
      ]
     },
     "execution_count": 5,
     "metadata": {},
     "output_type": "execute_result"
    }
   ],
   "source": [
    "dizi=np.full((4,3),5) #4 sütunluk 3hücreli 5 yazıyor\n",
    "dizi"
   ]
  },
  {
   "cell_type": "code",
   "execution_count": 6,
   "id": "f0243430-6387-4dca-aa5b-9a58f666d9d3",
   "metadata": {},
   "outputs": [
    {
     "data": {
      "text/plain": [
       "array([1, 2, 3])"
      ]
     },
     "execution_count": 6,
     "metadata": {},
     "output_type": "execute_result"
    }
   ],
   "source": [
    "#yeni bir numpy dizisi oluşturuyoruz\n",
    "np.array([1,2,3])"
   ]
  },
  {
   "cell_type": "code",
   "execution_count": 7,
   "id": "4ea94fd0-1943-4549-a9a5-8870c95b3a72",
   "metadata": {},
   "outputs": [],
   "source": [
    "#oluşturduğumuz diziyi bir değişkene aktarıyoruz\n",
    "dizi=np.array([\"elma\",\"erik\",\"iğde\"])"
   ]
  },
  {
   "cell_type": "code",
   "execution_count": 8,
   "id": "0f5d470c-a392-48fc-92fe-caf332f3580a",
   "metadata": {},
   "outputs": [
    {
     "data": {
      "text/plain": [
       "array(['elma', 'erik', 'iğde'], dtype='<U4')"
      ]
     },
     "execution_count": 8,
     "metadata": {},
     "output_type": "execute_result"
    }
   ],
   "source": [
    "dizi"
   ]
  },
  {
   "cell_type": "code",
   "execution_count": 9,
   "id": "2ae8d367-f456-4978-9bf7-5be23b0485a6",
   "metadata": {},
   "outputs": [],
   "source": [
    "dizi=np.array([1,2,3])"
   ]
  },
  {
   "cell_type": "code",
   "execution_count": 10,
   "id": "699e481f-c284-4bea-8981-b7d5599259d7",
   "metadata": {},
   "outputs": [],
   "source": [
    "dizi=np.array([1,2,3.14])"
   ]
  },
  {
   "cell_type": "code",
   "execution_count": 11,
   "id": "616daa49-24bb-458a-bb92-87d14a411a9b",
   "metadata": {},
   "outputs": [
    {
     "data": {
      "text/plain": [
       "dtype('float64')"
      ]
     },
     "execution_count": 11,
     "metadata": {},
     "output_type": "execute_result"
    }
   ],
   "source": [
    "dizi.dtype #dizinin değişken türünü verir. Numpy dizilerinde elemanların hepsi aynı türdedir "
   ]
  },
  {
   "cell_type": "code",
   "execution_count": 13,
   "id": "a3d88c20-7c9f-4d97-a694-c024123762d8",
   "metadata": {},
   "outputs": [
    {
     "data": {
      "text/plain": [
       "array([1, 2, 3])"
      ]
     },
     "execution_count": 13,
     "metadata": {},
     "output_type": "execute_result"
    }
   ],
   "source": [
    "dizi=np.array([1,2,3.14],dtype=int)\n",
    "dizi\n",
    "#3.14'ü ondalıklı sayıyı tam sayıyya çevirir"
   ]
  },
  {
   "cell_type": "code",
   "execution_count": 22,
   "id": "d2e141ea-4e41-4c8f-baff-a3e075b88206",
   "metadata": {},
   "outputs": [
    {
     "data": {
      "text/plain": [
       "array([[8, 5, 7, 8, 6, 1, 7],\n",
       "       [1, 9, 4, 2, 5, 0, 0],\n",
       "       [9, 1, 0, 3, 8, 6, 3],\n",
       "       [2, 8, 9, 6, 4, 5, 8],\n",
       "       [5, 7, 0, 2, 5, 6, 0]])"
      ]
     },
     "execution_count": 22,
     "metadata": {},
     "output_type": "execute_result"
    }
   ],
   "source": [
    "#5 satır 7 sütünden oluşan rastgele sayılardan oluşan int türünd bir dizi oluştur\n",
    "dizi=np.random.randint(0,10,(5,7),dtype=int)\n",
    "dizi"
   ]
  },
  {
   "cell_type": "code",
   "execution_count": 25,
   "id": "4ed72c72-baf9-41bc-a1fd-df2cc85dc0e2",
   "metadata": {},
   "outputs": [],
   "source": [
    "#bir boyutlu dizi oluşturma\n",
    "birboyut=np.array([1,2,3,4])\n",
    "#iki boyutlu dizi oluşturma\n",
    "ikiboyut=np.array([[1,2,3,4],[5,6,7,8],[9,10,11,12]])"
   ]
  },
  {
   "cell_type": "code",
   "execution_count": 26,
   "id": "fd14a0a8-19fc-49d1-bcca-bd05173ca4b8",
   "metadata": {},
   "outputs": [
    {
     "data": {
      "text/plain": [
       "array([1, 2, 3, 4])"
      ]
     },
     "execution_count": 26,
     "metadata": {},
     "output_type": "execute_result"
    }
   ],
   "source": [
    "birboyut"
   ]
  },
  {
   "cell_type": "code",
   "execution_count": 27,
   "id": "633a6cc4-eb48-4c4e-9781-137ad14e65c7",
   "metadata": {},
   "outputs": [
    {
     "data": {
      "text/plain": [
       "array([[ 1,  2,  3,  4],\n",
       "       [ 5,  6,  7,  8],\n",
       "       [ 9, 10, 11, 12]])"
      ]
     },
     "execution_count": 27,
     "metadata": {},
     "output_type": "execute_result"
    }
   ],
   "source": [
    "ikiboyut"
   ]
  },
  {
   "cell_type": "code",
   "execution_count": 28,
   "id": "aa819358-172f-4d23-a7b4-2351d82450fb",
   "metadata": {},
   "outputs": [
    {
     "data": {
      "text/plain": [
       "array([0., 0., 0., 0., 0., 0., 0.])"
      ]
     },
     "execution_count": 28,
     "metadata": {},
     "output_type": "execute_result"
    }
   ],
   "source": [
    "np.zeros(7) #7 sıfırdan oluşan tek boyutlu dizi oluşturur"
   ]
  },
  {
   "cell_type": "code",
   "execution_count": 31,
   "id": "df613002-a5b0-4baf-aa8b-e662fe607812",
   "metadata": {},
   "outputs": [
    {
     "data": {
      "text/plain": [
       "array([[0, 0, 0],\n",
       "       [0, 0, 0]])"
      ]
     },
     "execution_count": 31,
     "metadata": {},
     "output_type": "execute_result"
    }
   ],
   "source": [
    "np.zeros((2,3),dtype=int) # sıfırdan oluşan 2 boyutlu int dizi oluşturur"
   ]
  },
  {
   "cell_type": "code",
   "execution_count": 32,
   "id": "c9714b2b-e12b-4608-a654-425f7c435a8a",
   "metadata": {},
   "outputs": [
    {
     "data": {
      "text/plain": [
       "array([1., 1., 1.])"
      ]
     },
     "execution_count": 32,
     "metadata": {},
     "output_type": "execute_result"
    }
   ],
   "source": [
    "np.ones(3)"
   ]
  },
  {
   "cell_type": "code",
   "execution_count": 34,
   "id": "cb7ef20e-6536-4f54-93de-2db12d260996",
   "metadata": {},
   "outputs": [
    {
     "data": {
      "text/plain": [
       "array([[5, 5, 5],\n",
       "       [5, 5, 5],\n",
       "       [5, 5, 5],\n",
       "       [5, 5, 5]])"
      ]
     },
     "execution_count": 34,
     "metadata": {},
     "output_type": "execute_result"
    }
   ],
   "source": [
    "np.full((4,3),5) # 5 sayısından oluşan 2*3'lük dizi"
   ]
  },
  {
   "cell_type": "code",
   "execution_count": 36,
   "id": "3f18c418-a184-4c07-8fbd-fa6b052d00fb",
   "metadata": {},
   "outputs": [
    {
     "data": {
      "text/plain": [
       "array([ 2,  7, 12, 17])"
      ]
     },
     "execution_count": 36,
     "metadata": {},
     "output_type": "execute_result"
    }
   ],
   "source": [
    "np.arange(2,22,5) # başlangıç ve bitiş artış değerine göre dizi oluşturma"
   ]
  },
  {
   "cell_type": "code",
   "execution_count": 38,
   "id": "08461a50-9adc-4a10-b37b-987e35e9f449",
   "metadata": {},
   "outputs": [
    {
     "data": {
      "text/plain": [
       "array([ 2.        ,  3.33333333,  4.66666667,  6.        ,  7.33333333,\n",
       "        8.66666667, 10.        ])"
      ]
     },
     "execution_count": 38,
     "metadata": {},
     "output_type": "execute_result"
    }
   ],
   "source": [
    "np.linspace(2,10,num=7) #başlangıç ve bitiş değeri aralığında beiltilen miktarda eşit aralık"
   ]
  },
  {
   "cell_type": "code",
   "execution_count": 39,
   "id": "25af992f-4e0c-4726-a192-e2eb2787edda",
   "metadata": {},
   "outputs": [
    {
     "data": {
      "text/plain": [
       "array([[3, 3],\n",
       "       [7, 5],\n",
       "       [0, 0],\n",
       "       [6, 9],\n",
       "       [2, 1]])"
      ]
     },
     "execution_count": 39,
     "metadata": {},
     "output_type": "execute_result"
    }
   ],
   "source": [
    "np.random.randint(0,10,(5,2)) # 0-10 aralığında 5*2 rastgele sayıdan oluşan 2 boyutlu dizi"
   ]
  },
  {
   "cell_type": "code",
   "execution_count": 40,
   "id": "50127595-6ec0-4a04-858d-8f446d127bba",
   "metadata": {},
   "outputs": [
    {
     "data": {
      "text/plain": [
       "(5, 7)"
      ]
     },
     "execution_count": 40,
     "metadata": {},
     "output_type": "execute_result"
    }
   ],
   "source": [
    "#dizilerin eleman sayısını öğrenmek için shape komutu kullanılır\n",
    "diz=np.array([[1,2,3,4],[5,6,7,8],[9,10,11,12]])\n",
    "dizi.shape"
   ]
  },
  {
   "cell_type": "code",
   "execution_count": 41,
   "id": "d92414f1-5bd5-42da-82ac-1b374106b165",
   "metadata": {},
   "outputs": [
    {
     "data": {
      "text/plain": [
       "2"
      ]
     },
     "execution_count": 41,
     "metadata": {},
     "output_type": "execute_result"
    }
   ],
   "source": [
    "#ndim dizi boyutunu öğrenmek için kullanılır\n",
    "diz.ndim"
   ]
  },
  {
   "cell_type": "code",
   "execution_count": 42,
   "id": "fa7cf2eb-9339-431a-abaf-6997d07958ce",
   "metadata": {},
   "outputs": [
    {
     "data": {
      "text/plain": [
       "35"
      ]
     },
     "execution_count": 42,
     "metadata": {},
     "output_type": "execute_result"
    }
   ],
   "source": [
    "#size dizideki toplam eleman sayısını gösterir\n",
    "dizi.size"
   ]
  },
  {
   "cell_type": "code",
   "execution_count": 43,
   "id": "18c1dd10-6f3b-4fba-ae3c-b3dc92fee671",
   "metadata": {},
   "outputs": [
    {
     "data": {
      "text/plain": [
       "4"
      ]
     },
     "execution_count": 43,
     "metadata": {},
     "output_type": "execute_result"
    }
   ],
   "source": [
    "dizi.itemsize #dizideki her bir elemanın bayt cinsinen değerini "
   ]
  },
  {
   "cell_type": "code",
   "execution_count": null,
   "id": "91b7f7d8-0207-4c79-9923-15d33b4c0f9a",
   "metadata": {},
   "outputs": [],
   "source": []
  }
 ],
 "metadata": {
  "kernelspec": {
   "display_name": "Python 3 (ipykernel)",
   "language": "python",
   "name": "python3"
  },
  "language_info": {
   "codemirror_mode": {
    "name": "ipython",
    "version": 3
   },
   "file_extension": ".py",
   "mimetype": "text/x-python",
   "name": "python",
   "nbconvert_exporter": "python",
   "pygments_lexer": "ipython3",
   "version": "3.11.7"
  }
 },
 "nbformat": 4,
 "nbformat_minor": 5
}
